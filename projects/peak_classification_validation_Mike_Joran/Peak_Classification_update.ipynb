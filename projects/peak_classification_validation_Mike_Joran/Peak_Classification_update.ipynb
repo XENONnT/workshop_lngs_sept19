{
 "cells": [
  {
   "cell_type": "markdown",
   "metadata": {},
   "source": [
    "# Validation of the classification based on the WFsim #\n",
    "\n",
    "2019/09/28\n",
    "\n",
    "Authors:\n",
    " - Clark, Michael <clark632@purdue.edu>\n",
    " - Angevaare, Joran <j.angevaare@nikhef.nl>\n",
    " \n",
    "**Updates:**\n",
    "\n",
    "2019/11/14"
   ]
  },
  {
   "cell_type": "markdown",
   "metadata": {},
   "source": [
    "## This notebook #\n",
    "Buggs in the WFsim that are important to keep in mind:\n",
    " -  <s>There is no double photo-emission taken into account\n",
    " -  There may be only ~ 500 events before the WFsim crashes<s>\n",
    " \n",
    " \n",
    "Possible extensions:\n",
    " - Add afterpulse boolian to the 'truth' info\n",
    " - Do the same for the other detector types"
   ]
  },
  {
   "cell_type": "code",
   "execution_count": 1,
   "metadata": {},
   "outputs": [],
   "source": [
    "import strax\n",
    "import straxen"
   ]
  },
  {
   "cell_type": "code",
   "execution_count": 2,
   "metadata": {},
   "outputs": [],
   "source": [
    "import wfsim"
   ]
  },
  {
   "cell_type": "markdown",
   "metadata": {},
   "source": [
    "We include ``recarray_tools.py`` here that is used to add columns and do things with structured arrays. \n",
    "Taken from:\n",
    "\n",
    "    https://github.com/XENON1T/XeAnalysisScripts/tree/master/PeakFinderTest"
   ]
  },
  {
   "cell_type": "code",
   "execution_count": 3,
   "metadata": {},
   "outputs": [
    {
     "ename": "ModuleNotFoundError",
     "evalue": "No module named 'recarray_tools'",
     "output_type": "error",
     "traceback": [
      "\u001b[0;31m---------------------------------------------------------------------------\u001b[0m",
      "\u001b[0;31mModuleNotFoundError\u001b[0m                       Traceback (most recent call last)",
      "\u001b[0;32m<ipython-input-3-70be0bd230ed>\u001b[0m in \u001b[0;36m<module>\u001b[0;34m\u001b[0m\n\u001b[0;32m----> 1\u001b[0;31m \u001b[0;32mfrom\u001b[0m \u001b[0mpeak_classification\u001b[0m\u001b[0;34m.\u001b[0m\u001b[0mpeak_finder\u001b[0m \u001b[0;32mimport\u001b[0m \u001b[0;34m*\u001b[0m\u001b[0;34m\u001b[0m\u001b[0;34m\u001b[0m\u001b[0m\n\u001b[0m",
      "\u001b[0;32m/mnt/c/Users/Joran/Google Drive/PhD-master/ubuntu-storage/ubuntu-windows/software/workshop_lngs_sept19/projects/peak_classification_validation_Mike_Joran/peak_classification/peak_finder.py\u001b[0m in \u001b[0;36m<module>\u001b[0;34m\u001b[0m\n\u001b[1;32m    159\u001b[0m \u001b[0;32mfrom\u001b[0m \u001b[0mtqdm\u001b[0m \u001b[0;32mimport\u001b[0m \u001b[0mtqdm\u001b[0m\u001b[0;34m\u001b[0m\u001b[0;34m\u001b[0m\u001b[0m\n\u001b[1;32m    160\u001b[0m \u001b[0;34m\u001b[0m\u001b[0m\n\u001b[0;32m--> 161\u001b[0;31m \u001b[0;32mimport\u001b[0m \u001b[0mrecarray_tools\u001b[0m \u001b[0;32mas\u001b[0m \u001b[0mrt\u001b[0m\u001b[0;34m\u001b[0m\u001b[0;34m\u001b[0m\u001b[0m\n\u001b[0m\u001b[1;32m    162\u001b[0m \u001b[0;32mfrom\u001b[0m \u001b[0mmultihist\u001b[0m \u001b[0;32mimport\u001b[0m \u001b[0mHist1d\u001b[0m\u001b[0;34m\u001b[0m\u001b[0;34m\u001b[0m\u001b[0m\n\u001b[1;32m    163\u001b[0m \u001b[0;34m\u001b[0m\u001b[0m\n",
      "\u001b[0;31mModuleNotFoundError\u001b[0m: No module named 'recarray_tools'"
     ]
    }
   ],
   "source": [
    "from peak_classification.peak_finder import *"
   ]
  },
  {
   "cell_type": "code",
   "execution_count": null,
   "metadata": {},
   "outputs": [],
   "source": [
    "from peak_classification.wfsim_utils import *"
   ]
  },
  {
   "cell_type": "markdown",
   "metadata": {},
   "source": [
    "Initize the wavefrom simulator"
   ]
  },
  {
   "cell_type": "code",
   "execution_count": null,
   "metadata": {},
   "outputs": [],
   "source": [
    "c = dict(event_rate = 50, chunk_size=1, nchunk=1)\n",
    "inst = rand_instructions(c)\n",
    "pd.DataFrame(inst).to_csv('test_uni.csv', index=False)"
   ]
  },
  {
   "cell_type": "code",
   "execution_count": null,
   "metadata": {},
   "outputs": [],
   "source": [
    "st = strax.Context(\n",
    "register=[wfsim.RawRecordsFromFax],\n",
    "config=dict(fax_file='./test_uni.csv'),\n",
    "**straxen.contexts.common_opts)"
   ]
  },
  {
   "cell_type": "code",
   "execution_count": null,
   "metadata": {},
   "outputs": [],
   "source": [
    "# Just some id from post-SR1, so the corrections work\n",
    "run_id = '180519_1902'"
   ]
  },
  {
   "cell_type": "code",
   "execution_count": null,
   "metadata": {
    "scrolled": false
   },
   "outputs": [],
   "source": [
    "!rm -r strax_data\n",
    "peaks = st.make(run_id, 'peak_basics')"
   ]
  },
  {
   "cell_type": "code",
   "execution_count": null,
   "metadata": {},
   "outputs": [],
   "source": [
    "truth = st.get_array(run_id, 'truth')\n",
    "data = st.get_array(run_id, ['peak_basics','peak_classification'])"
   ]
  },
  {
   "cell_type": "markdown",
   "metadata": {},
   "source": [
    "This is to compensate for the fact that we dont have event numbers (Binning in time to group peaks)"
   ]
  },
  {
   "cell_type": "code",
   "execution_count": null,
   "metadata": {},
   "outputs": [],
   "source": [
    "n = c['nevents'] = c['event_rate'] * c['chunk_size'] * c['nchunk']\n",
    "c['total_time'] = c['chunk_size'] * c['nchunk']\n",
    "timing_grid = np.linspace(0, c['total_time'], n+1) * 1e9"
   ]
  },
  {
   "cell_type": "code",
   "execution_count": null,
   "metadata": {},
   "outputs": [],
   "source": [
    "### Proxy for event number\n",
    "\n",
    "truth = append_fields(truth, 'merge_index',np.digitize(truth['t'], timing_grid))\n",
    "data = append_fields(data, 'merge_index',np.digitize(data['time'], timing_grid))"
   ]
  },
  {
   "cell_type": "code",
   "execution_count": null,
   "metadata": {},
   "outputs": [],
   "source": [
    "### Proxy for area of truth peak\n",
    "\n",
    "truth = append_fields(truth, 'area', truth['n_photon'])"
   ]
  },
  {
   "cell_type": "markdown",
   "metadata": {},
   "source": [
    "**There is a bug that the types are listed here as strings, where in strax they are integers**\n",
    "The code here is to change that such that we can compare them directly"
   ]
  },
  {
   "cell_type": "code",
   "execution_count": null,
   "metadata": {},
   "outputs": [],
   "source": [
    "###!! \n",
    "###!! \n",
    "###!!\n",
    "###!!\n",
    "\n",
    "truth = append_fields(truth, 'typeint',np.ones(len(truth)), dtypes=np.int)\n",
    "# truth['typeint'][truth['type'] == 's2'] = np.int(2)\n",
    "# truth['typeint'][truth['type'] == 's1'] = np.int(1)\n",
    "data = append_fields(data, 'typeint',data['type'], dtypes=np.int)\n"
   ]
  },
  {
   "cell_type": "markdown",
   "metadata": {},
   "source": [
    "Proxy for ``left`` and ``right`` (as in ``PAX``) sides of peak in truth."
   ]
  },
  {
   "cell_type": "code",
   "execution_count": null,
   "metadata": {},
   "outputs": [],
   "source": [
    "### Proxy for left and right of peak\n",
    "truth = append_fields(truth, \n",
    "                      ('time','endtime'), \n",
    "                      (truth['t_first_photon'],\n",
    "                       truth['t_last_photon']))\n",
    "\n",
    "##3 Will need to add check to see if last electron is after last photon as below\n",
    "#\n",
    "#truth['endtime'] = truth['t_last_photon']\n",
    "#mask = truth['endtime'] < truth['t_last_electron']\n",
    "#truth['endtime'][mask] = truth['t_last_electron'][mask]"
   ]
  },
  {
   "cell_type": "markdown",
   "metadata": {},
   "source": [
    "**We think there is a bug that makes all the peak times 500 ns earlier than the truth values**\n",
    "\n",
    "We change the data here to move all times by 500 ns"
   ]
  },
  {
   "cell_type": "code",
   "execution_count": null,
   "metadata": {},
   "outputs": [],
   "source": [
    "###!!\n",
    "###!!\n",
    "###!! \n",
    "# data['time'] = data['time']+500\n",
    "# data['endtime'] = data['endtime']+500"
   ]
  },
  {
   "cell_type": "markdown",
   "metadata": {},
   "source": [
    "Here in match_peaks.py, written by Jelle, to compare two sets of peaks\n",
    "\n",
    "Changes:\n",
    "  -  Changed 'type' to 'typeint' because types are listed as integers in strax"
   ]
  },
  {
   "cell_type": "code",
   "execution_count": null,
   "metadata": {},
   "outputs": [],
   "source": []
  },
  {
   "cell_type": "markdown",
   "metadata": {},
   "source": [
    "Call with (truth, data)"
   ]
  },
  {
   "cell_type": "code",
   "execution_count": null,
   "metadata": {},
   "outputs": [],
   "source": [
    "truthmatched, datamatched = match_peaks(truth,data)"
   ]
  },
  {
   "cell_type": "markdown",
   "metadata": {},
   "source": [
    "Below is the output of match_peaks for the truth data.  \n",
    "  - For each peak, **outcome** shows whether the peak was found, missed, merged, split up, or misidentified in the output of strax for the simulated data\n",
    "  - **matched_to** shows which peak (peak_id in the other array) it was matched with, or the biggest peak it was matched with \n",
    "\n",
    "<img src='toptruthmatches.png'>\n",
    "  \n",
    "Below is the corresponding match_index in the simulated data\n",
    "<img src='topdatamatch.png'>\n",
    "  \n",
    "You can see the splitting of the true s2 into an s1 and an s2"
   ]
  },
  {
   "cell_type": "code",
   "execution_count": null,
   "metadata": {},
   "outputs": [],
   "source": [
    "pd.DataFrame.from_records(truthmatched[['merge_index','type','time','area','endtime','matched_to','outcome']])\n"
   ]
  },
  {
   "cell_type": "code",
   "execution_count": null,
   "metadata": {},
   "outputs": [],
   "source": [
    "pd.DataFrame.from_records(datamatched[['merge_index','type','time','area','endtime','matched_to','outcome']]).head(20)\n",
    "#pd.DataFrame.from_records(truthmatched[['merge_index','type','time','area','endtime','matched_to','outcome']])\n"
   ]
  },
  {
   "cell_type": "code",
   "execution_count": null,
   "metadata": {},
   "outputs": [],
   "source": [
    "pd.DataFrame.from_records(truthmatched[truthmatched['outcome'] == b'found'][['merge_index','type','time','area','endtime','matched_to','outcome']])"
   ]
  },
  {
   "cell_type": "markdown",
   "metadata": {},
   "source": [
    "## Plotting the results ##\n",
    "The plots below show the fraction of several of the ``dtypes`` of the ``truth`` or the ``data``. These fractions show how many of the ``peaks`` were found correctly."
   ]
  },
  {
   "cell_type": "code",
   "execution_count": null,
   "metadata": {},
   "outputs": [],
   "source": [
    "plot_peak_matching_histogram(truthmatched,'typeint',bins=[0.5,1.5,2.5])\n",
    "plt.xlabel('Peak Type')\n",
    "plt.show()"
   ]
  },
  {
   "cell_type": "code",
   "execution_count": null,
   "metadata": {},
   "outputs": [],
   "source": [
    "plot_peak_matching_histogram(datamatched,'typeint',bins= [-0.5,0.5,1.5,2.5])\n",
    "plt.xlabel('Peak Type')"
   ]
  },
  {
   "cell_type": "code",
   "execution_count": null,
   "metadata": {},
   "outputs": [],
   "source": [
    "plot_peak_matching_histogram(truthmatched,'z')\n",
    "plt.xlabel('Depth')"
   ]
  },
  {
   "cell_type": "code",
   "execution_count": null,
   "metadata": {},
   "outputs": [],
   "source": [
    "plot_peak_matching_histogram(datamatched,'area_fraction_top')\n",
    "plt.xlabel('Area Fraction Top')"
   ]
  },
  {
   "cell_type": "code",
   "execution_count": null,
   "metadata": {},
   "outputs": [],
   "source": []
  },
  {
   "cell_type": "code",
   "execution_count": null,
   "metadata": {},
   "outputs": [],
   "source": []
  },
  {
   "cell_type": "code",
   "execution_count": null,
   "metadata": {},
   "outputs": [],
   "source": []
  },
  {
   "cell_type": "code",
   "execution_count": null,
   "metadata": {},
   "outputs": [],
   "source": []
  },
  {
   "cell_type": "code",
   "execution_count": null,
   "metadata": {},
   "outputs": [],
   "source": []
  }
 ],
 "metadata": {
  "kernelspec": {
   "display_name": "Python 3",
   "language": "python",
   "name": "python3"
  },
  "language_info": {
   "codemirror_mode": {
    "name": "ipython",
    "version": 3
   },
   "file_extension": ".py",
   "mimetype": "text/x-python",
   "name": "python",
   "nbconvert_exporter": "python",
   "pygments_lexer": "ipython3",
   "version": "3.6.9"
  },
  "widgets": {
   "state": {
    "a26e7f9ab967429687376a4127408b3b": {
     "views": [
      {
       "cell_index": 9
      }
     ]
    }
   },
   "version": "1.2.0"
  }
 },
 "nbformat": 4,
 "nbformat_minor": 4
}

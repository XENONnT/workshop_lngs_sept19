{
 "cells": [
  {
   "cell_type": "markdown",
   "metadata": {},
   "source": [
    "# Validation of the classification based on the WFsim #\n",
    "\n",
    "2019/09/28\n",
    "\n",
    "Authors:\n",
    " - Clark, Michael <clark632@purdue.edu>\n",
    " - Angevaare, Joran <j.angevaare@nikhef.nl>\n",
    " \n",
    "**Update:**\n",
    "\n",
    "2019/11/13\n",
    "\n",
    "# Notebook is obsolete, please find the most recent notebooks here: #\n",
    "<https://github.com/XENONnT/analysiscode/tree/master/PeakFinderTest>"
   ]
  },
  {
   "cell_type": "markdown",
   "metadata": {},
   "source": [
    "## This notebook #\n",
    " \n",
    " \n",
    "Possible extensions:\n",
    " - Add afterpulse boolian to the 'truth' info\n",
    " - Do the same for the other detector types"
   ]
  },
  {
   "cell_type": "code",
   "execution_count": 1,
   "metadata": {},
   "outputs": [],
   "source": [
    "import strax\n",
    "import straxen"
   ]
  },
  {
   "cell_type": "code",
   "execution_count": 2,
   "metadata": {},
   "outputs": [],
   "source": [
    "import wfsim"
   ]
  },
  {
   "cell_type": "code",
   "execution_count": 3,
   "metadata": {},
   "outputs": [],
   "source": [
    "import os"
   ]
  },
  {
   "cell_type": "code",
   "execution_count": 4,
   "metadata": {},
   "outputs": [],
   "source": [
    "import pandas as pd"
   ]
  },
  {
   "cell_type": "code",
   "execution_count": 5,
   "metadata": {},
   "outputs": [],
   "source": [
    "pd.set_option('display.max_rows', 50)"
   ]
  },
  {
   "cell_type": "markdown",
   "metadata": {},
   "source": [
    "We include ``recarray_tools.py`` here that is used to add columns and do things with structured arrays. \n",
    "Taken from:\n",
    "\n",
    "    https://github.com/XENON1T/XeAnalysisScripts/tree/master/PeakFinderTest"
   ]
  },
  {
   "cell_type": "code",
   "execution_count": 6,
   "metadata": {},
   "outputs": [],
   "source": [
    "from peak_classification.recarray_tools import *"
   ]
  },
  {
   "cell_type": "code",
   "execution_count": 7,
   "metadata": {},
   "outputs": [],
   "source": [
    "from peak_classification.wfsim_utils import *"
   ]
  },
  {
   "cell_type": "code",
   "execution_count": 8,
   "metadata": {},
   "outputs": [],
   "source": [
    "from peak_classification.match_peaks import *"
   ]
  },
  {
   "cell_type": "markdown",
   "metadata": {},
   "source": [
    "Initize the wavefrom simulator"
   ]
  },
  {
   "cell_type": "code",
   "execution_count": 29,
   "metadata": {},
   "outputs": [],
   "source": [
    "instructions_csv = \"./test_uni.csv\"\n",
    "instructions = dict(event_rate = 50 , chunk_size=1, nchunk=20)\n",
    "inst_to_csv(instructions, instructions_csv)"
   ]
  },
  {
   "cell_type": "code",
   "execution_count": 30,
   "metadata": {},
   "outputs": [],
   "source": [
    "st = strax.Context(\n",
    "    register=[wfsim.RawRecordsFromFax],\n",
    "    config=dict(fax_file=instructions_csv),\n",
    "    **straxen.contexts.common_opts)"
   ]
  },
  {
   "cell_type": "code",
   "execution_count": 31,
   "metadata": {},
   "outputs": [],
   "source": [
    "class CustomPeakClassification(strax.Plugin):\n",
    "    # Name of the data type this plugin provides\n",
    "    provides = 'peak_classification'\n",
    "    \n",
    "    # Data types this plugin requires. Note we don't specify\n",
    "    # what plugins should produce them: maybe the default PeakBasics\n",
    "    # has been replaced by another AdvancedExpertBlabla plugin?\n",
    "    depends_on = ('peak_basics')\n",
    "    \n",
    "    # Numpy datatype of the output \n",
    "    dtype = straxen.PeakClassification.dtype\n",
    "    \n",
    "    # Version of the plugin. Increment this if you change the algorithm.\n",
    "    __version__ = '0.0.1'\n",
    "    \n",
    "    result = {}\n",
    "    def compute(self, peaks):\n",
    "        result = np.zeros(len(peaks), dtype=self.dtype)\n",
    "        masks1 = (peaks['n_channels']>2) & (peaks['range_50p_area'] < 100)\n",
    "        \n",
    "        result['type'][masks1] = 1\n",
    "        masks2 = (peaks['n_channels']>2) & (peaks['area'] > 20) & (peaks['range_50p_area'] > 100)\n",
    "        result['type'][masks2] = 2\n",
    "\n",
    "        return result"
   ]
  },
  {
   "cell_type": "code",
   "execution_count": 32,
   "metadata": {},
   "outputs": [],
   "source": [
    "# Just some id from post-SR1, so the corrections work\n",
    "run_id = '180519_1902'"
   ]
  },
  {
   "cell_type": "code",
   "execution_count": 33,
   "metadata": {
    "scrolled": false
   },
   "outputs": [
    {
     "name": "stdout",
     "output_type": "stream",
     "text": [
      "deleted data\n"
     ]
    },
    {
     "name": "stderr",
     "output_type": "stream",
     "text": [
      "Simulating Raw Records:   5%|▌         | 102/2000 [00:59<22:24,  1.41it/s]"
     ]
    },
    {
     "name": "stdout",
     "output_type": "stream",
     "text": [
      "RawRecordsFromFax:140285513711232 waiting for chunk 1\n"
     ]
    },
    {
     "name": "stderr",
     "output_type": "stream",
     "text": [
      "Simulating Raw Records:  10%|█         | 201/2000 [01:58<15:32,  1.93it/s]"
     ]
    },
    {
     "name": "stdout",
     "output_type": "stream",
     "text": [
      "RawRecordsFromFax:140285513711232 waiting for chunk 2\n"
     ]
    },
    {
     "name": "stderr",
     "output_type": "stream",
     "text": [
      "Simulating Raw Records:  15%|█▌        | 302/2000 [02:59<14:41,  1.93it/s]"
     ]
    },
    {
     "name": "stdout",
     "output_type": "stream",
     "text": [
      "RawRecordsFromFax:140285513711232 waiting for chunk 3\n"
     ]
    },
    {
     "name": "stderr",
     "output_type": "stream",
     "text": [
      "Simulating Raw Records:  20%|██        | 402/2000 [03:53<15:42,  1.70it/s]"
     ]
    },
    {
     "name": "stdout",
     "output_type": "stream",
     "text": [
      "RawRecordsFromFax:140285513711232 waiting for chunk 4\n"
     ]
    },
    {
     "name": "stderr",
     "output_type": "stream",
     "text": [
      "Simulating Raw Records:  25%|██▌       | 502/2000 [04:48<08:50,  2.82it/s]"
     ]
    },
    {
     "name": "stdout",
     "output_type": "stream",
     "text": [
      "RawRecordsFromFax:140285513711232 waiting for chunk 5\n"
     ]
    },
    {
     "name": "stderr",
     "output_type": "stream",
     "text": [
      "Simulating Raw Records:  30%|███       | 602/2000 [05:49<09:59,  2.33it/s]"
     ]
    },
    {
     "name": "stdout",
     "output_type": "stream",
     "text": [
      "RawRecordsFromFax:140285513711232 waiting for chunk 6\n"
     ]
    },
    {
     "name": "stderr",
     "output_type": "stream",
     "text": [
      "Simulating Raw Records:  35%|███▌      | 702/2000 [06:43<09:24,  2.30it/s]"
     ]
    },
    {
     "name": "stdout",
     "output_type": "stream",
     "text": [
      "RawRecordsFromFax:140285513711232 waiting for chunk 7\n"
     ]
    },
    {
     "name": "stderr",
     "output_type": "stream",
     "text": [
      "Simulating Raw Records:  40%|████      | 801/2000 [07:37<11:32,  1.73it/s]"
     ]
    },
    {
     "name": "stdout",
     "output_type": "stream",
     "text": [
      "RawRecordsFromFax:140285513711232 waiting for chunk 8\n"
     ]
    },
    {
     "name": "stderr",
     "output_type": "stream",
     "text": [
      "Simulating Raw Records:  45%|████▌     | 902/2000 [08:21<06:45,  2.71it/s]"
     ]
    },
    {
     "name": "stdout",
     "output_type": "stream",
     "text": [
      "RawRecordsFromFax:140285513711232 waiting for chunk 9\n"
     ]
    },
    {
     "name": "stderr",
     "output_type": "stream",
     "text": [
      "Simulating Raw Records:  50%|█████     | 1002/2000 [09:09<05:08,  3.24it/s]"
     ]
    },
    {
     "name": "stdout",
     "output_type": "stream",
     "text": [
      "RawRecordsFromFax:140285513711232 waiting for chunk 10\n"
     ]
    },
    {
     "name": "stderr",
     "output_type": "stream",
     "text": [
      "Simulating Raw Records:  55%|█████▌    | 1102/2000 [10:06<06:34,  2.28it/s]"
     ]
    },
    {
     "name": "stdout",
     "output_type": "stream",
     "text": [
      "RawRecordsFromFax:140285513711232 waiting for chunk 11\n"
     ]
    },
    {
     "name": "stderr",
     "output_type": "stream",
     "text": [
      "Simulating Raw Records:  60%|██████    | 1202/2000 [10:47<05:59,  2.22it/s]"
     ]
    },
    {
     "name": "stdout",
     "output_type": "stream",
     "text": [
      "RawRecordsFromFax:140285513711232 waiting for chunk 12\n"
     ]
    },
    {
     "name": "stderr",
     "output_type": "stream",
     "text": [
      "Simulating Raw Records:  65%|██████▌   | 1301/2000 [11:37<06:07,  1.90it/s]"
     ]
    },
    {
     "name": "stdout",
     "output_type": "stream",
     "text": [
      "RawRecordsFromFax:140285513711232 waiting for chunk 13\n"
     ]
    },
    {
     "name": "stderr",
     "output_type": "stream",
     "text": [
      "Simulating Raw Records:  70%|███████   | 1402/2000 [12:25<02:34,  3.86it/s]"
     ]
    },
    {
     "name": "stdout",
     "output_type": "stream",
     "text": [
      "RawRecordsFromFax:140285513711232 waiting for chunk 14\n"
     ]
    },
    {
     "name": "stderr",
     "output_type": "stream",
     "text": [
      "Simulating Raw Records:  75%|███████▌  | 1502/2000 [13:13<04:14,  1.95it/s]"
     ]
    },
    {
     "name": "stdout",
     "output_type": "stream",
     "text": [
      "RawRecordsFromFax:140285513711232 waiting for chunk 15\n"
     ]
    },
    {
     "name": "stderr",
     "output_type": "stream",
     "text": [
      "Simulating Raw Records:  80%|████████  | 1602/2000 [14:09<02:30,  2.64it/s]"
     ]
    },
    {
     "name": "stdout",
     "output_type": "stream",
     "text": [
      "RawRecordsFromFax:140285513711232 waiting for chunk 16\n"
     ]
    },
    {
     "name": "stderr",
     "output_type": "stream",
     "text": [
      "Simulating Raw Records:  85%|████████▌ | 1701/2000 [14:56<01:38,  3.04it/s]"
     ]
    },
    {
     "name": "stdout",
     "output_type": "stream",
     "text": [
      "RawRecordsFromFax:140285513711232 waiting for chunk 17\n"
     ]
    },
    {
     "name": "stderr",
     "output_type": "stream",
     "text": [
      "Simulating Raw Records:  90%|█████████ | 1802/2000 [15:48<01:53,  1.75it/s]"
     ]
    },
    {
     "name": "stdout",
     "output_type": "stream",
     "text": [
      "RawRecordsFromFax:140285513711232 waiting for chunk 18\n"
     ]
    },
    {
     "name": "stderr",
     "output_type": "stream",
     "text": [
      "Simulating Raw Records:  95%|█████████▌| 1901/2000 [17:06<01:11,  1.39it/s]"
     ]
    },
    {
     "name": "stdout",
     "output_type": "stream",
     "text": [
      "RawRecordsFromFax:140285513711232 waiting for chunk 19\n"
     ]
    },
    {
     "name": "stderr",
     "output_type": "stream",
     "text": [
      "Simulating Raw Records: 100%|██████████| 2000/2000 [18:04<00:00,  1.86it/s]\n"
     ]
    },
    {
     "name": "stdout",
     "output_type": "stream",
     "text": [
      "Source finished!\n"
     ]
    }
   ],
   "source": [
    "if True or check_for_strax_data():\n",
    "    !rm -r strax_data/\n",
    "    print('deleted data')\n",
    "\n",
    "peaks = st.make(run_id, 'raw_records')"
   ]
  },
  {
   "cell_type": "code",
   "execution_count": 34,
   "metadata": {},
   "outputs": [
    {
     "name": "stdout",
     "output_type": "stream",
     "text": [
      "Did not find qujv7vqxrl in cache, downloading https://raw.githubusercontent.com/XENONnT/strax_auxiliary_files/master/to_pe.npy\n"
     ]
    }
   ],
   "source": [
    "truth = st.get_array(run_id, 'truth')\n",
    "data_default = st.get_array(run_id, ['peak_basics','peak_classification'])\n",
    "data_custom = st.get_array(run_id, ['peak_basics','peak_classification'],\n",
    "                          register=CustomPeakClassification)"
   ]
  },
  {
   "cell_type": "markdown",
   "metadata": {},
   "source": [
    "This is to compensate for the fact that we dont have event numbers (Binning in time to group peaks)"
   ]
  },
  {
   "cell_type": "code",
   "execution_count": 35,
   "metadata": {},
   "outputs": [],
   "source": [
    "timing_grid = get_timing_grid(instructions)"
   ]
  },
  {
   "cell_type": "code",
   "execution_count": 37,
   "metadata": {},
   "outputs": [],
   "source": [
    "### Proxy for event number\n",
    "truth = append_fields(truth, 'merge_index',np.digitize(truth['t'], timing_grid))\n",
    "data_default = append_fields(data_default, 'merge_index', \n",
    "                             np.digitize(data_default['time'], timing_grid))\n",
    "data_custom = append_fields(data_custom, 'merge_index', \n",
    "                            np.digitize(data_custom['time'], timing_grid))"
   ]
  },
  {
   "cell_type": "markdown",
   "metadata": {},
   "source": [
    "**There is a bug that the types are listed here as strings, where in strax they are integers**\n",
    "The code here is to change that such that we can compare them directly"
   ]
  },
  {
   "cell_type": "markdown",
   "metadata": {},
   "source": [
    "Proxy for ``left`` and ``right`` (as in ``PAX``) sides of peak in truth."
   ]
  },
  {
   "cell_type": "code",
   "execution_count": 38,
   "metadata": {},
   "outputs": [],
   "source": [
    "### Proxy for left and right of peak\n",
    "truth = append_fields(truth, \n",
    "                      ('time','endtime'), \n",
    "                      (truth['t_first_photon'],\n",
    "                       truth['t_last_photon']))"
   ]
  },
  {
   "cell_type": "markdown",
   "metadata": {},
   "source": [
    "Here in match_peaks.py, written by Jelle, to compare two sets of peaks"
   ]
  },
  {
   "cell_type": "markdown",
   "metadata": {},
   "source": [
    "Call with (truth, data)"
   ]
  },
  {
   "cell_type": "code",
   "execution_count": 39,
   "metadata": {},
   "outputs": [
    {
     "name": "stdout",
     "output_type": "stream",
     "text": [
      "\tAppending extra fields...\n",
      "\n",
      "\tGrouping peaks 1 by event...\n",
      "\n",
      "\tGrouping peaks 2 by event...\n",
      "\n"
     ]
    },
    {
     "name": "stderr",
     "output_type": "stream",
     "text": [
      "Matching peaks: 100%|██████████| 1000/1000 [00:00<00:00, 2974.77it/s]\n",
      "Matching peaks:   0%|          | 0/1000 [00:00<?, ?it/s]"
     ]
    },
    {
     "name": "stdout",
     "output_type": "stream",
     "text": [
      "\tAppending extra fields...\n",
      "\n",
      "\tGrouping peaks 1 by event...\n",
      "\n",
      "\tGrouping peaks 2 by event...\n",
      "\n"
     ]
    },
    {
     "name": "stderr",
     "output_type": "stream",
     "text": [
      "Matching peaks: 100%|██████████| 1000/1000 [00:00<00:00, 3078.05it/s]\n"
     ]
    }
   ],
   "source": [
    "thruth_vs_default, default_vs_truth = match_peaks(truth,data_default)\n",
    "thruth_vs_custom, custom_vs_truth = match_peaks(truth,data_custom)"
   ]
  },
  {
   "cell_type": "markdown",
   "metadata": {},
   "source": [
    "Below is the output of match_peaks for the truth data.  \n",
    "  - For each peak, **outcome** shows whether the peak was found, missed, merged, split up, or misidentified in the output of strax for the simulated data\n",
    "  - **matched_to** shows which peak (peak_id in the other array) it was matched with, or the biggest peak it was matched with \n",
    "\n",
    "<img src='toptruthmatches.png'>\n",
    "  \n",
    "Below is the corresponding match_index in the simulated data\n",
    "<img src='topdatamatch.png'>\n",
    "  \n",
    "You can see the splitting of the true s2 into an s1 and an s2"
   ]
  },
  {
   "cell_type": "code",
   "execution_count": 40,
   "metadata": {},
   "outputs": [
    {
     "data": {
      "text/html": [
       "<div>\n",
       "<style scoped>\n",
       "    .dataframe tbody tr th:only-of-type {\n",
       "        vertical-align: middle;\n",
       "    }\n",
       "\n",
       "    .dataframe tbody tr th {\n",
       "        vertical-align: top;\n",
       "    }\n",
       "\n",
       "    .dataframe thead th {\n",
       "        text-align: right;\n",
       "    }\n",
       "</style>\n",
       "<table border=\"1\" class=\"dataframe\">\n",
       "  <thead>\n",
       "    <tr style=\"text-align: right;\">\n",
       "      <th></th>\n",
       "      <th>merge_index</th>\n",
       "      <th>type</th>\n",
       "      <th>time</th>\n",
       "      <th>n_photon</th>\n",
       "      <th>endtime</th>\n",
       "      <th>matched_to</th>\n",
       "      <th>outcome</th>\n",
       "    </tr>\n",
       "  </thead>\n",
       "  <tbody>\n",
       "    <tr>\n",
       "      <td>0</td>\n",
       "      <td>1</td>\n",
       "      <td>1</td>\n",
       "      <td>1.000002e+07</td>\n",
       "      <td>126.0</td>\n",
       "      <td>1.000017e+07</td>\n",
       "      <td>0</td>\n",
       "      <td>b'found'</td>\n",
       "    </tr>\n",
       "    <tr>\n",
       "      <td>1</td>\n",
       "      <td>1</td>\n",
       "      <td>2</td>\n",
       "      <td>1.010539e+07</td>\n",
       "      <td>1407.0</td>\n",
       "      <td>1.010883e+07</td>\n",
       "      <td>2</td>\n",
       "      <td>b'found'</td>\n",
       "    </tr>\n",
       "    <tr>\n",
       "      <td>2</td>\n",
       "      <td>2</td>\n",
       "      <td>1</td>\n",
       "      <td>3.000001e+07</td>\n",
       "      <td>240.0</td>\n",
       "      <td>3.000020e+07</td>\n",
       "      <td>4</td>\n",
       "      <td>b'found'</td>\n",
       "    </tr>\n",
       "    <tr>\n",
       "      <td>3</td>\n",
       "      <td>2</td>\n",
       "      <td>2</td>\n",
       "      <td>3.048620e+07</td>\n",
       "      <td>84.0</td>\n",
       "      <td>3.049015e+07</td>\n",
       "      <td>6</td>\n",
       "      <td>b'chopped'</td>\n",
       "    </tr>\n",
       "    <tr>\n",
       "      <td>4</td>\n",
       "      <td>3</td>\n",
       "      <td>1</td>\n",
       "      <td>5.000003e+07</td>\n",
       "      <td>87.0</td>\n",
       "      <td>5.000015e+07</td>\n",
       "      <td>7</td>\n",
       "      <td>b'found'</td>\n",
       "    </tr>\n",
       "    <tr>\n",
       "      <td>...</td>\n",
       "      <td>...</td>\n",
       "      <td>...</td>\n",
       "      <td>...</td>\n",
       "      <td>...</td>\n",
       "      <td>...</td>\n",
       "      <td>...</td>\n",
       "      <td>...</td>\n",
       "    </tr>\n",
       "    <tr>\n",
       "      <td>1995</td>\n",
       "      <td>998</td>\n",
       "      <td>2</td>\n",
       "      <td>1.995062e+10</td>\n",
       "      <td>141.0</td>\n",
       "      <td>1.995063e+10</td>\n",
       "      <td>5341</td>\n",
       "      <td>b'split_and_misid'</td>\n",
       "    </tr>\n",
       "    <tr>\n",
       "      <td>1996</td>\n",
       "      <td>999</td>\n",
       "      <td>1</td>\n",
       "      <td>1.997000e+10</td>\n",
       "      <td>154.0</td>\n",
       "      <td>1.997000e+10</td>\n",
       "      <td>5342</td>\n",
       "      <td>b'found'</td>\n",
       "    </tr>\n",
       "    <tr>\n",
       "      <td>1997</td>\n",
       "      <td>999</td>\n",
       "      <td>2</td>\n",
       "      <td>1.997033e+10</td>\n",
       "      <td>1264.0</td>\n",
       "      <td>1.997034e+10</td>\n",
       "      <td>5343</td>\n",
       "      <td>b'chopped'</td>\n",
       "    </tr>\n",
       "    <tr>\n",
       "      <td>1998</td>\n",
       "      <td>1000</td>\n",
       "      <td>1</td>\n",
       "      <td>1.999000e+10</td>\n",
       "      <td>102.0</td>\n",
       "      <td>1.999000e+10</td>\n",
       "      <td>5346</td>\n",
       "      <td>b'found'</td>\n",
       "    </tr>\n",
       "    <tr>\n",
       "      <td>1999</td>\n",
       "      <td>1000</td>\n",
       "      <td>2</td>\n",
       "      <td>1.999015e+10</td>\n",
       "      <td>57869.0</td>\n",
       "      <td>1.999016e+10</td>\n",
       "      <td>5347</td>\n",
       "      <td>b'found'</td>\n",
       "    </tr>\n",
       "  </tbody>\n",
       "</table>\n",
       "<p>2000 rows × 7 columns</p>\n",
       "</div>"
      ],
      "text/plain": [
       "      merge_index  type          time  n_photon       endtime  matched_to  \\\n",
       "0               1     1  1.000002e+07     126.0  1.000017e+07           0   \n",
       "1               1     2  1.010539e+07    1407.0  1.010883e+07           2   \n",
       "2               2     1  3.000001e+07     240.0  3.000020e+07           4   \n",
       "3               2     2  3.048620e+07      84.0  3.049015e+07           6   \n",
       "4               3     1  5.000003e+07      87.0  5.000015e+07           7   \n",
       "...           ...   ...           ...       ...           ...         ...   \n",
       "1995          998     2  1.995062e+10     141.0  1.995063e+10        5341   \n",
       "1996          999     1  1.997000e+10     154.0  1.997000e+10        5342   \n",
       "1997          999     2  1.997033e+10    1264.0  1.997034e+10        5343   \n",
       "1998         1000     1  1.999000e+10     102.0  1.999000e+10        5346   \n",
       "1999         1000     2  1.999015e+10   57869.0  1.999016e+10        5347   \n",
       "\n",
       "                 outcome  \n",
       "0               b'found'  \n",
       "1               b'found'  \n",
       "2               b'found'  \n",
       "3             b'chopped'  \n",
       "4               b'found'  \n",
       "...                  ...  \n",
       "1995  b'split_and_misid'  \n",
       "1996            b'found'  \n",
       "1997          b'chopped'  \n",
       "1998            b'found'  \n",
       "1999            b'found'  \n",
       "\n",
       "[2000 rows x 7 columns]"
      ]
     },
     "execution_count": 40,
     "metadata": {},
     "output_type": "execute_result"
    }
   ],
   "source": [
    "headers = ['merge_index','type','time','n_photon','endtime','matched_to','outcome']\n",
    "pd.DataFrame.from_records(thruth_vs_default[headers])\n"
   ]
  },
  {
   "cell_type": "markdown",
   "metadata": {},
   "source": [
    "## Plotting the results ##\n",
    "The plots below show the fraction of several of the ``dtypes`` of the ``truth`` or the ``data``. These fractions show how many of the ``peaks`` were found correctly."
   ]
  },
  {
   "cell_type": "markdown",
   "metadata": {},
   "source": [
    "The default ``strax`` options, first:"
   ]
  },
  {
   "cell_type": "code",
   "execution_count": 43,
   "metadata": {},
   "outputs": [
    {
     "name": "stdout",
     "output_type": "stream",
     "text": [
      "\t3.20% b'chopped'\n",
      "\t86.65% b'found'\n",
      "\t0.05% b'misid_as_s1'\n",
      "\t0.05% b'missed'\n",
      "\t7.95% b'split'\n",
      "\t2.05% b'split_and_misid'\n",
      "\t0.05% b'unclassified'\n"
     ]
    },
    {
     "name": "stderr",
     "output_type": "stream",
     "text": [
      "/home/joran/software/workshop_lngs_sept19/projects/peak_classification_validation_Mike_Joran/peak_classification/match_peaks.py:266: RuntimeWarning: invalid value encountered in true_divide\n",
      "  hist /= n_peaks_hist.histogram.astype('float')\n"
     ]
    },
    {
     "data": {
      "image/png": "[encoded data removed]",
      "text/plain": [
       "<Figure size 432x288 with 1 Axes>"
      ]
     },
     "metadata": {
      "needs_background": "light"
     },
     "output_type": "display_data"
    }
   ],
   "source": [
    "plot_peak_matching_histogram(thruth_vs_default,'type',bins=[-0.5,0.5,1.5,2.5])\n",
    "plt.xlabel('Peak Type')\n",
    "plt.show()"
   ]
  },
  {
   "cell_type": "markdown",
   "metadata": {},
   "source": [
    "The custom options as introduced above:"
   ]
  },
  {
   "cell_type": "code",
   "execution_count": 44,
   "metadata": {},
   "outputs": [
    {
     "name": "stdout",
     "output_type": "stream",
     "text": [
      "\t3.85% b'chopped'\n",
      "\t86.75% b'found'\n",
      "\t0.05% b'missed'\n",
      "\t8.85% b'split'\n",
      "\t0.50% b'split_and_misid'\n"
     ]
    },
    {
     "data": {
      "image/png": "[encoded data removed]",
      "text/plain": [
       "<Figure size 432x288 with 1 Axes>"
      ]
     },
     "metadata": {
      "needs_background": "light"
     },
     "output_type": "display_data"
    }
   ],
   "source": [
    "plot_peak_matching_histogram(thruth_vs_custom,'type',bins=[-0.5,0.5,1.5,2.5])\n",
    "plt.xlabel('Peak Type')\n",
    "plt.show()"
   ]
  },
  {
   "cell_type": "code",
   "execution_count": null,
   "metadata": {},
   "outputs": [],
   "source": []
  },
  {
   "cell_type": "code",
   "execution_count": null,
   "metadata": {},
   "outputs": [],
   "source": []
  },
  {
   "cell_type": "code",
   "execution_count": null,
   "metadata": {},
   "outputs": [],
   "source": []
  },
  {
   "cell_type": "code",
   "execution_count": null,
   "metadata": {},
   "outputs": [],
   "source": []
  }
 ],
 "metadata": {
  "kernelspec": {
   "display_name": "Python 3",
   "language": "python",
   "name": "python3"
  },
  "language_info": {
   "codemirror_mode": {
    "name": "ipython",
    "version": 3
   },
   "file_extension": ".py",
   "mimetype": "text/x-python",
   "name": "python",
   "nbconvert_exporter": "python",
   "pygments_lexer": "ipython3",
   "version": "3.6.9"
  },
  "widgets": {
   "state": {
    "a26e7f9ab967429687376a4127408b3b": {
     "views": [
      {
       "cell_index": 9
      }
     ]
    }
   },
   "version": "1.2.0"
  }
 },
 "nbformat": 4,
 "nbformat_minor": 4
}
